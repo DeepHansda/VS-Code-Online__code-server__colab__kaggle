{
  "metadata": {
    "colab": {
      "provenance": [],
      "include_colab_link": true
    },
    "kernelspec": {
      "name": "python3",
      "display_name": "Python 3",
      "language": "python"
    },
    "language_info": {
      "name": "python",
      "version": "3.10.14",
      "mimetype": "text/x-python",
      "codemirror_mode": {
        "name": "ipython",
        "version": 3
      },
      "pygments_lexer": "ipython3",
      "nbconvert_exporter": "python",
      "file_extension": ".py"
    },
    "kaggle": {
      "accelerator": "gpu",
      "dataSources": [],
      "isInternetEnabled": true,
      "language": "python",
      "sourceType": "notebook",
      "isGpuEnabled": true
    }
  },
  "nbformat_minor": 0,
  "nbformat": 4,
  "cells": [
    {
      "cell_type": "markdown",
      "metadata": {
        "id": "view-in-github",
        "colab_type": "text"
      },
      "source": [
        "<a href=\"https://colab.research.google.com/github/DeepHansda/VS-Code-Online__code-server__colab__kaggle/blob/main/vs_code_online.ipynb\" target=\"_parent\"><img src=\"https://colab.research.google.com/assets/colab-badge.svg\" alt=\"Open In Colab\"/></a>"
      ]
    },
    {
      "source": [
        "<a href=\"https://www.kaggle.com/code/deephansda/vs-code-online?scriptVersionId=207927976\" target=\"_blank\"><img align=\"left\" alt=\"Kaggle\" title=\"Open in Kaggle\" src=\"https://kaggle.com/static/images/open-in-kaggle.svg\"></a>"
      ],
      "metadata": {
        "id": "hQ961H3-0fY7"
      },
      "cell_type": "markdown"
    },
    {
      "cell_type": "code",
      "source": [
        "## Step 1: Install Necessary Tools\n",
        "try:\n",
        "    !pip install pyngrok\n",
        "    !curl -fsSL https://code-server.dev/install.sh | sh\n",
        "    !mkdir -p ~/.local/lib ~/.local/bin\n",
        "    !curl -fL https://github.com/coder/code-server/releases/download/v$VERSION/code-server-$VERSION-linux-amd64.tar.gz \\\n",
        "      | tar -C ~/.local/lib -xz\n",
        "    !mv ~/.local/lib/code-server-$VERSION-linux-amd64 ~/.local/lib/code-server-$VERSION\n",
        "    !ln -s ~/.local/lib/code-server-$VERSION/bin/code-server ~/.local/bin/code-server\n",
        "    !PATH=\"~/.local/bin:$PATH\"\n",
        "except Exception as e:\n",
        "    print(\"Error installing tools:\", e)"
      ],
      "metadata": {
        "id": "PD0P2hJQEsd6",
        "_kg_hide-input": true,
        "trusted": true
      },
      "execution_count": null,
      "outputs": []
    },
    {
      "cell_type": "code",
      "source": [
        "import json\n",
        "from threading import Timer\n",
        "from queue import Queue\n",
        "from pyngrok import ngrok"
      ],
      "metadata": {
        "id": "z_T7okjnEZFa",
        "trusted": true
      },
      "execution_count": null,
      "outputs": []
    },
    {
      "cell_type": "code",
      "source": [
        "import os\n",
        "\n",
        "# Step 2: Detect Environment and Retrieve Tokens\n",
        "try:\n",
        "    # Get the current working directory\n",
        "    current_dir = %pwd\n",
        "    #enter ngrok_token here.\n",
        "    ngrok_token = \"\" or None\n",
        "    #enter ngrok_domain  here\n",
        "    ngrok_domain = \"\" or None\n",
        "\n",
        "    if ngrok_token and ngrok_domain:\n",
        "        print(\"Ngrok token already exists. Skipping retrieval process.\")\n",
        "    else:\n",
        "        if \"/content\" in current_dir:  # Google Colab\n",
        "            try:\n",
        "                from google.colab import userdata\n",
        "                ngrok_token = userdata.get(\"NGROK_TOKEN\")\n",
        "                ngrok_domain = userdata.get(\"NGROK_DOMAIN\")\n",
        "                print(\"Detected environment: Google Colab\")\n",
        "            except Exception as colab_error:\n",
        "                print(\"Error retrieving tokens from Google Colab:\", colab_error)\n",
        "\n",
        "        elif \"/kaggle\" in current_dir:  # Kaggle\n",
        "            try:\n",
        "                from kaggle_secrets import UserSecretsClient\n",
        "                user_secrets = UserSecretsClient()\n",
        "                ngrok_token = user_secrets.get_secret(\"NGROK_TOKEN\")\n",
        "                ngrok_domain = user_secrets.get_secret(\"NGROK_DOMAIN\")\n",
        "                print(\"Detected environment: Kaggle\")\n",
        "            except Exception as kaggle_error:\n",
        "                print(\"Error retrieving tokens from Kaggle:\", kaggle_error)\n",
        "\n",
        "        else:  # Other environments\n",
        "            ngrok_token = os.environ.get(\"NGROK_TOKEN\")\n",
        "            ngrok_domain = os.environ.get(\"NGROK_DOMAIN\")\n",
        "            print(\"Detected environment: Other (Environment Variables)\")\n",
        "\n",
        "    # If ngrok_token is still None, raise an error\n",
        "    if not ngrok_token:\n",
        "        raise ValueError(\"Ngrok token is missing. Please set the 'NGROK_TOKEN'.\")\n",
        "\n",
        "    # Optionally, check for ngrok_domain if it's required\n",
        "    if not ngrok_domain:\n",
        "        print(\"Warning: Ngrok domain is missing. Proceeding without it.\")\n",
        "\n",
        "    # For demonstration purposes, print the retrieved tokens (Remove in production)\n",
        "    # print(\"Ngrok Token:\", ngrok_token)\n",
        "    # print(\"Ngrok Domain:\", ngrok_domain)\n",
        "\n",
        "except Exception as e:\n",
        "    print(\"Error detecting environment or retrieving tokens:\", e)\n"
      ],
      "metadata": {
        "id": "n3j21tJ0Kbxl",
        "trusted": true
      },
      "execution_count": null,
      "outputs": []
    },
    {
      "cell_type": "code",
      "source": [
        "# Step 3: Define Function to Set Up Ngrok Tunnel\n",
        "def ngrok_tunnel(port, queue, auth_token):\n",
        "    try:\n",
        "        ngrok.set_auth_token(auth_token)\n",
        "        url = ngrok.connect(port, domain=ngrok_domain)\n",
        "        queue.put(url)\n",
        "    except Exception as e:\n",
        "        print(\"Error starting ngrok tunnel:\", e)"
      ],
      "metadata": {
        "id": "YncsdTeULARQ",
        "trusted": true
      },
      "execution_count": null,
      "outputs": []
    },
    {
      "cell_type": "code",
      "source": [
        "\n",
        "# Step 4: Start the Ngrok Tunnel\n",
        "try:\n",
        "    ngrok_output_queue = Queue()\n",
        "    ngrok_thread = Timer(2, ngrok_tunnel, args=(8188, ngrok_output_queue, ngrok_token))\n",
        "    ngrok_thread.start()\n",
        "    ngrok_thread.join()\n",
        "    print(\"Ngrok URL:\", ngrok_output_queue.get())\n",
        "except Exception as e:\n",
        "    print(\"Error starting ngrok thread:\", e)"
      ],
      "metadata": {
        "id": "aPBM898-LUq7",
        "trusted": true
      },
      "execution_count": null,
      "outputs": []
    },
    {
      "cell_type": "code",
      "source": [
        "\n",
        "# Step 5: Print Tunnels (If Any)\n",
        "try:\n",
        "    tunnels = ngrok.get_tunnels()\n",
        "    print(\"Active tunnels:\", tunnels)\n",
        "except Exception as e:\n",
        "    print(\"Error retrieving tunnels:\", e)\n",
        "\n",
        "# Step 6: Start Code Server\n",
        "try:\n",
        "    !code-server --auth none --port 8188\n",
        "except Exception as e:\n",
        "    print(\"Error starting code-server:\", e)"
      ],
      "metadata": {
        "id": "En0R0m0HLazI",
        "trusted": true
      },
      "execution_count": null,
      "outputs": []
    }
  ]
}