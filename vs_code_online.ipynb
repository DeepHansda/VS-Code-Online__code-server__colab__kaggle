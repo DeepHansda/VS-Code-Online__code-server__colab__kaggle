{
  "metadata": {
    "colab": {
      "provenance": [],
      "include_colab_link": true
    },
    "kernelspec": {
      "name": "python3",
      "display_name": "Python 3",
      "language": "python"
    },
    "language_info": {
      "name": "python",
      "version": "3.10.14",
      "mimetype": "text/x-python",
      "codemirror_mode": {
        "name": "ipython",
        "version": 3
      },
      "pygments_lexer": "ipython3",
      "nbconvert_exporter": "python",
      "file_extension": ".py"
    },
    "kaggle": {
      "accelerator": "gpu",
      "dataSources": [],
      "isInternetEnabled": true,
      "language": "python",
      "sourceType": "notebook",
      "isGpuEnabled": true
    }
  },
  "nbformat_minor": 0,
  "nbformat": 4,
  "cells": [
    {
      "cell_type": "markdown",
      "metadata": {
        "id": "view-in-github",
        "colab_type": "text"
      },
      "source": [
        "<a href=\"https://colab.research.google.com/github/DeepHansda/VS-Code-Online__code-server__colab__kaggle/blob/main/vs_code_online.ipynb\" target=\"_parent\"><img src=\"https://colab.research.google.com/assets/colab-badge.svg\" alt=\"Open In Colab\"/></a>"
      ]
    },
    {
      "source": [
        "<a href=\"https://www.kaggle.com/code/deephansda/vs-code-online?scriptVersionId=207927976\" target=\"_blank\"><img align=\"left\" alt=\"Kaggle\" title=\"Open in Kaggle\" src=\"https://kaggle.com/static/images/open-in-kaggle.svg\"></a>"
      ],
      "metadata": {
        "id": "hQ961H3-0fY7"
      },
      "cell_type": "markdown"
    },
    {
      "cell_type": "code",
      "source": [
        "## Step 1: Install Necessary Tools\n",
        "try:\n",
        "    !pip install pyngrok\n",
        "    !curl -fsSL https://code-server.dev/install.sh | sh\n",
        "    !mkdir -p ~/.local/lib ~/.local/bin\n",
        "    !curl -fL https://github.com/coder/code-server/releases/download/v$VERSION/code-server-$VERSION-linux-amd64.tar.gz \\\n",
        "      | tar -C ~/.local/lib -xz\n",
        "    !mv ~/.local/lib/code-server-$VERSION-linux-amd64 ~/.local/lib/code-server-$VERSION\n",
        "    !ln -s ~/.local/lib/code-server-$VERSION/bin/code-server ~/.local/bin/code-server\n",
        "    !PATH=\"~/.local/bin:$PATH\"\n",
        "except Exception as e:\n",
        "    print(\"Error installing tools:\", e)"
      ],
      "metadata": {
        "id": "PD0P2hJQEsd6",
        "_kg_hide-input": true,
        "trusted": true,
        "outputId": "d4e3c69a-5131-4833-d8b0-19e333936093",
        "colab": {
          "base_uri": "https://localhost:8080/"
        }
      },
      "execution_count": 1,
      "outputs": [
        {
          "output_type": "stream",
          "name": "stdout",
          "text": [
            "Collecting pyngrok\n",
            "  Downloading pyngrok-7.2.1-py3-none-any.whl.metadata (8.3 kB)\n",
            "Requirement already satisfied: PyYAML>=5.1 in /usr/local/lib/python3.10/dist-packages (from pyngrok) (6.0.2)\n",
            "Downloading pyngrok-7.2.1-py3-none-any.whl (22 kB)\n",
            "Installing collected packages: pyngrok\n",
            "Successfully installed pyngrok-7.2.1\n",
            "Ubuntu 22.04.3 LTS\n",
            "Installing v4.95.2 of the amd64 deb package from GitHub.\n",
            "\n",
            "+ mkdir -p ~/.cache/code-server\n",
            "+ curl -#fL -o ~/.cache/code-server/code-server_4.95.2_amd64.deb.incomplete -C - https://github.com/coder/code-server/releases/download/v4.95.2/code-server_4.95.2_amd64.deb\n",
            "############################################################################################# 100.0%\n",
            "+ mv ~/.cache/code-server/code-server_4.95.2_amd64.deb.incomplete ~/.cache/code-server/code-server_4.95.2_amd64.deb\n",
            "+ dpkg -i ~/.cache/code-server/code-server_4.95.2_amd64.deb\n",
            "Selecting previously unselected package code-server.\n",
            "(Reading database ... 123629 files and directories currently installed.)\n",
            "Preparing to unpack .../code-server_4.95.2_amd64.deb ...\n",
            "Unpacking code-server (4.95.2) ...\n",
            "Setting up code-server (4.95.2) ...\n",
            "\n",
            "deb package has been installed.\n",
            "\n",
            "To have systemd start code-server now and restart on boot:\n",
            "  sudo systemctl enable --now code-server@$USER\n",
            "Or, if you don't want/need a background service you can run:\n",
            "  code-server\n",
            "\n",
            "Deploy code-server for your team with Coder: https://github.com/coder/coder\n",
            "  % Total    % Received % Xferd  Average Speed   Time    Time     Time  Current\n",
            "                                 Dload  Upload   Total   Spent    Left  Speed\n",
            "  0     9    0     0    0     0      0      0 --:--:-- --:--:-- --:--:--     0\n",
            "curl: (22) The requested URL returned error: 404\n",
            "\n",
            "gzip: stdin: unexpected end of file\n",
            "tar: Child returned status 1\n",
            "tar: Error is not recoverable: exiting now\n",
            "mv: cannot stat '/root/.local/lib/code-server--linux-amd64': No such file or directory\n"
          ]
        }
      ]
    },
    {
      "cell_type": "code",
      "source": [
        "import json\n",
        "from threading import Timer\n",
        "from queue import Queue\n",
        "from pyngrok import ngrok"
      ],
      "metadata": {
        "id": "z_T7okjnEZFa",
        "trusted": true
      },
      "execution_count": 2,
      "outputs": []
    },
    {
      "cell_type": "code",
      "source": [
        "import os\n",
        "\n",
        "# Step 2: Detect Environment and Retrieve Tokens\n",
        "try:\n",
        "    # Get the current working directory\n",
        "    current_dir = %pwd\n",
        "    #enter ngrok_token here.\n",
        "    ngrok_token = \"\" or None\n",
        "    #enter ngrok_domain  here\n",
        "    ngrok_domain = \"\" or None\n",
        "\n",
        "    if ngrok_token and ngrok_domain:\n",
        "        print(\"Ngrok token already exists. Skipping retrieval process.\")\n",
        "    else:\n",
        "        if \"/content\" in current_dir:  # Google Colab\n",
        "            try:\n",
        "                from google.colab import userdata\n",
        "                ngrok_token = userdata.get(\"NGROK_TOKEN\")\n",
        "                ngrok_domain = userdata.get(\"NGROK_DOMAIN\")\n",
        "                print(\"Detected environment: Google Colab\")\n",
        "            except Exception as colab_error:\n",
        "                print(\"Error retrieving tokens from Google Colab:\", colab_error)\n",
        "\n",
        "        elif \"/kaggle\" in current_dir:  # Kaggle\n",
        "            try:\n",
        "                from kaggle_secrets import UserSecretsClient\n",
        "                user_secrets = UserSecretsClient()\n",
        "                ngrok_token = user_secrets.get_secret(\"NGROK_TOKEN\")\n",
        "                ngrok_domain = user_secrets.get_secret(\"NGROK_DOMAIN\")\n",
        "                print(\"Detected environment: Kaggle\")\n",
        "            except Exception as kaggle_error:\n",
        "                print(\"Error retrieving tokens from Kaggle:\", kaggle_error)\n",
        "\n",
        "        else:  # Other environments\n",
        "            ngrok_token = os.environ.get(\"NGROK_TOKEN\")\n",
        "            ngrok_domain = os.environ.get(\"NGROK_DOMAIN\")\n",
        "            print(\"Detected environment: Other (Environment Variables)\")\n",
        "\n",
        "    # If ngrok_token is still None, raise an error\n",
        "    if not ngrok_token:\n",
        "        raise ValueError(\"Ngrok token is missing. Please set the 'NGROK_TOKEN'.\")\n",
        "\n",
        "    # Optionally, check for ngrok_domain if it's required\n",
        "    if not ngrok_domain:\n",
        "        print(\"Warning: Ngrok domain is missing. Proceeding without it.\")\n",
        "\n",
        "    # For demonstration purposes, print the retrieved tokens (Remove in production)\n",
        "    # print(\"Ngrok Token:\", ngrok_token)\n",
        "    # print(\"Ngrok Domain:\", ngrok_domain)\n",
        "\n",
        "except Exception as e:\n",
        "    print(\"Error detecting environment or retrieving tokens:\", e)\n"
      ],
      "metadata": {
        "id": "n3j21tJ0Kbxl",
        "trusted": true,
        "outputId": "55ef389e-9c90-428e-f9b9-382931d68f76",
        "colab": {
          "base_uri": "https://localhost:8080/"
        }
      },
      "execution_count": 6,
      "outputs": [
        {
          "output_type": "stream",
          "name": "stdout",
          "text": [
            "Detected environment: Google Colab\n"
          ]
        }
      ]
    },
    {
      "cell_type": "code",
      "source": [
        "# Step 3: Define Function to Set Up Ngrok Tunnel\n",
        "def ngrok_tunnel(port, queue, auth_token):\n",
        "    try:\n",
        "        ngrok.set_auth_token(auth_token)\n",
        "        url = ngrok.connect(port, domain=ngrok_domain)\n",
        "        queue.put(url)\n",
        "    except Exception as e:\n",
        "        print(\"Error starting ngrok tunnel:\", e)"
      ],
      "metadata": {
        "id": "YncsdTeULARQ",
        "trusted": true
      },
      "execution_count": 7,
      "outputs": []
    },
    {
      "cell_type": "code",
      "source": [
        "\n",
        "# Step 4: Start the Ngrok Tunnel\n",
        "try:\n",
        "    ngrok_output_queue = Queue()\n",
        "    ngrok_thread = Timer(2, ngrok_tunnel, args=(8188, ngrok_output_queue, ngrok_token))\n",
        "    ngrok_thread.start()\n",
        "    ngrok_thread.join()\n",
        "    print(\"Ngrok URL:\", ngrok_output_queue.get())\n",
        "except Exception as e:\n",
        "    print(\"Error starting ngrok thread:\", e)"
      ],
      "metadata": {
        "id": "aPBM898-LUq7",
        "trusted": true,
        "outputId": "4548089b-4a09-4982-c843-928d3b89448c",
        "colab": {
          "base_uri": "https://localhost:8080/",
          "height": 435
        }
      },
      "execution_count": 8,
      "outputs": [
        {
          "output_type": "stream",
          "name": "stderr",
          "text": [
            "ERROR:pyngrok.process.ngrok:t=2024-11-17T11:17:20+0000 lvl=eror msg=\"failed to reconnect session\" obj=tunnels.session err=\"authentication failed: Your account is limited to 1 simultaneous ngrok agent sessions.\\nYou can run multiple simultaneous tunnels from a single agent session by defining the tunnels in your agent configuration file and starting them with the command `ngrok start --all`.\\nRead more about the agent configuration file: https://ngrok.com/docs/secure-tunnels/ngrok-agent/reference/config\\nYou can view your current agent sessions in the dashboard:\\nhttps://dashboard.ngrok.com/agents\\r\\n\\r\\nERR_NGROK_108\\r\\n\"\n",
            "ERROR:pyngrok.process.ngrok:t=2024-11-17T11:17:20+0000 lvl=eror msg=\"session closing\" obj=tunnels.session err=\"authentication failed: Your account is limited to 1 simultaneous ngrok agent sessions.\\nYou can run multiple simultaneous tunnels from a single agent session by defining the tunnels in your agent configuration file and starting them with the command `ngrok start --all`.\\nRead more about the agent configuration file: https://ngrok.com/docs/secure-tunnels/ngrok-agent/reference/config\\nYou can view your current agent sessions in the dashboard:\\nhttps://dashboard.ngrok.com/agents\\r\\n\\r\\nERR_NGROK_108\\r\\n\"\n"
          ]
        },
        {
          "output_type": "stream",
          "name": "stdout",
          "text": [
            "Error starting ngrok tunnel: The ngrok process errored on start: authentication failed: Your account is limited to 1 simultaneous ngrok agent sessions.\\nYou can run multiple simultaneous tunnels from a single agent session by defining the tunnels in your agent configuration file and starting them with the command `ngrok start --all`.\\nRead more about the agent configuration file: https://ngrok.com/docs/secure-tunnels/ngrok-agent/reference/config\\nYou can view your current agent sessions in the dashboard:\\nhttps://dashboard.ngrok.com/agents\\r\\n\\r\\nERR_NGROK_108\\r\\n.\n"
          ]
        },
        {
          "output_type": "error",
          "ename": "KeyboardInterrupt",
          "evalue": "",
          "traceback": [
            "\u001b[0;31m---------------------------------------------------------------------------\u001b[0m",
            "\u001b[0;31mKeyboardInterrupt\u001b[0m                         Traceback (most recent call last)",
            "\u001b[0;32m<ipython-input-8-5c85ea9e2622>\u001b[0m in \u001b[0;36m<cell line: 2>\u001b[0;34m()\u001b[0m\n\u001b[1;32m      5\u001b[0m     \u001b[0mngrok_thread\u001b[0m\u001b[0;34m.\u001b[0m\u001b[0mstart\u001b[0m\u001b[0;34m(\u001b[0m\u001b[0;34m)\u001b[0m\u001b[0;34m\u001b[0m\u001b[0;34m\u001b[0m\u001b[0m\n\u001b[1;32m      6\u001b[0m     \u001b[0mngrok_thread\u001b[0m\u001b[0;34m.\u001b[0m\u001b[0mjoin\u001b[0m\u001b[0;34m(\u001b[0m\u001b[0;34m)\u001b[0m\u001b[0;34m\u001b[0m\u001b[0;34m\u001b[0m\u001b[0m\n\u001b[0;32m----> 7\u001b[0;31m     \u001b[0mprint\u001b[0m\u001b[0;34m(\u001b[0m\u001b[0;34m\"Ngrok URL:\"\u001b[0m\u001b[0;34m,\u001b[0m \u001b[0mngrok_output_queue\u001b[0m\u001b[0;34m.\u001b[0m\u001b[0mget\u001b[0m\u001b[0;34m(\u001b[0m\u001b[0;34m)\u001b[0m\u001b[0;34m)\u001b[0m\u001b[0;34m\u001b[0m\u001b[0;34m\u001b[0m\u001b[0m\n\u001b[0m\u001b[1;32m      8\u001b[0m \u001b[0;32mexcept\u001b[0m \u001b[0mException\u001b[0m \u001b[0;32mas\u001b[0m \u001b[0me\u001b[0m\u001b[0;34m:\u001b[0m\u001b[0;34m\u001b[0m\u001b[0;34m\u001b[0m\u001b[0m\n\u001b[1;32m      9\u001b[0m     \u001b[0mprint\u001b[0m\u001b[0;34m(\u001b[0m\u001b[0;34m\"Error starting ngrok thread:\"\u001b[0m\u001b[0;34m,\u001b[0m \u001b[0me\u001b[0m\u001b[0;34m)\u001b[0m\u001b[0;34m\u001b[0m\u001b[0;34m\u001b[0m\u001b[0m\n",
            "\u001b[0;32m/usr/lib/python3.10/queue.py\u001b[0m in \u001b[0;36mget\u001b[0;34m(self, block, timeout)\u001b[0m\n\u001b[1;32m    169\u001b[0m             \u001b[0;32melif\u001b[0m \u001b[0mtimeout\u001b[0m \u001b[0;32mis\u001b[0m \u001b[0;32mNone\u001b[0m\u001b[0;34m:\u001b[0m\u001b[0;34m\u001b[0m\u001b[0;34m\u001b[0m\u001b[0m\n\u001b[1;32m    170\u001b[0m                 \u001b[0;32mwhile\u001b[0m \u001b[0;32mnot\u001b[0m \u001b[0mself\u001b[0m\u001b[0;34m.\u001b[0m\u001b[0m_qsize\u001b[0m\u001b[0;34m(\u001b[0m\u001b[0;34m)\u001b[0m\u001b[0;34m:\u001b[0m\u001b[0;34m\u001b[0m\u001b[0;34m\u001b[0m\u001b[0m\n\u001b[0;32m--> 171\u001b[0;31m                     \u001b[0mself\u001b[0m\u001b[0;34m.\u001b[0m\u001b[0mnot_empty\u001b[0m\u001b[0;34m.\u001b[0m\u001b[0mwait\u001b[0m\u001b[0;34m(\u001b[0m\u001b[0;34m)\u001b[0m\u001b[0;34m\u001b[0m\u001b[0;34m\u001b[0m\u001b[0m\n\u001b[0m\u001b[1;32m    172\u001b[0m             \u001b[0;32melif\u001b[0m \u001b[0mtimeout\u001b[0m \u001b[0;34m<\u001b[0m \u001b[0;36m0\u001b[0m\u001b[0;34m:\u001b[0m\u001b[0;34m\u001b[0m\u001b[0;34m\u001b[0m\u001b[0m\n\u001b[1;32m    173\u001b[0m                 \u001b[0;32mraise\u001b[0m \u001b[0mValueError\u001b[0m\u001b[0;34m(\u001b[0m\u001b[0;34m\"'timeout' must be a non-negative number\"\u001b[0m\u001b[0;34m)\u001b[0m\u001b[0;34m\u001b[0m\u001b[0;34m\u001b[0m\u001b[0m\n",
            "\u001b[0;32m/usr/lib/python3.10/threading.py\u001b[0m in \u001b[0;36mwait\u001b[0;34m(self, timeout)\u001b[0m\n\u001b[1;32m    318\u001b[0m         \u001b[0;32mtry\u001b[0m\u001b[0;34m:\u001b[0m    \u001b[0;31m# restore state no matter what (e.g., KeyboardInterrupt)\u001b[0m\u001b[0;34m\u001b[0m\u001b[0;34m\u001b[0m\u001b[0m\n\u001b[1;32m    319\u001b[0m             \u001b[0;32mif\u001b[0m \u001b[0mtimeout\u001b[0m \u001b[0;32mis\u001b[0m \u001b[0;32mNone\u001b[0m\u001b[0;34m:\u001b[0m\u001b[0;34m\u001b[0m\u001b[0;34m\u001b[0m\u001b[0m\n\u001b[0;32m--> 320\u001b[0;31m                 \u001b[0mwaiter\u001b[0m\u001b[0;34m.\u001b[0m\u001b[0macquire\u001b[0m\u001b[0;34m(\u001b[0m\u001b[0;34m)\u001b[0m\u001b[0;34m\u001b[0m\u001b[0;34m\u001b[0m\u001b[0m\n\u001b[0m\u001b[1;32m    321\u001b[0m                 \u001b[0mgotit\u001b[0m \u001b[0;34m=\u001b[0m \u001b[0;32mTrue\u001b[0m\u001b[0;34m\u001b[0m\u001b[0;34m\u001b[0m\u001b[0m\n\u001b[1;32m    322\u001b[0m             \u001b[0;32melse\u001b[0m\u001b[0;34m:\u001b[0m\u001b[0;34m\u001b[0m\u001b[0;34m\u001b[0m\u001b[0m\n",
            "\u001b[0;31mKeyboardInterrupt\u001b[0m: "
          ]
        }
      ]
    },
    {
      "cell_type": "code",
      "source": [
        "\n",
        "# Step 5: Print Tunnels (If Any)\n",
        "try:\n",
        "    tunnels = ngrok.get_tunnels()\n",
        "    print(\"Active tunnels:\", tunnels)\n",
        "except Exception as e:\n",
        "    print(\"Error retrieving tunnels:\", e)\n",
        "\n",
        "# Step 6: Start Code Server\n",
        "try:\n",
        "    !code-server --auth none --port 8188\n",
        "except Exception as e:\n",
        "    print(\"Error starting code-server:\", e)"
      ],
      "metadata": {
        "id": "En0R0m0HLazI",
        "trusted": true
      },
      "execution_count": null,
      "outputs": []
    }
  ]
}